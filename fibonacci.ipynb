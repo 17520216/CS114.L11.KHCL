{
  "nbformat": 4,
  "nbformat_minor": 0,
  "metadata": {
    "colab": {
      "name": "Untitled9.ipynb",
      "provenance": [],
      "authorship_tag": "ABX9TyPX/zddiuvEYXWLEmuWARwA",
      "include_colab_link": true
    },
    "kernelspec": {
      "name": "python3",
      "display_name": "Python 3"
    }
  },
  "cells": [
    {
      "cell_type": "markdown",
      "metadata": {
        "id": "view-in-github",
        "colab_type": "text"
      },
      "source": [
        "<a href=\"https://colab.research.google.com/github/17520216/CS114.L11.KHCL/blob/master/fibonacci.ipynb\" target=\"_parent\"><img src=\"https://colab.research.google.com/assets/colab-badge.svg\" alt=\"Open In Colab\"/></a>"
      ]
    },
    {
      "cell_type": "markdown",
      "metadata": {
        "id": "zobLK0qkPkFt"
      },
      "source": [
        "##Số Fibonacci\n",
        "Nhập vào số nguyên x sao cho 1 ≤ x ≤ 30. Nếu x không thỏa điều kiện, chương trình xuất ra màn hình thông báo “So <x> khong nam trong khoang [1,30].”. Nếu x nằm trong đoạn [1,30], chương trình xuất ra màn hình số Fibonacci thứ x."
      ]
    },
    {
      "cell_type": "code",
      "metadata": {
        "id": "vXi9jxNDPy8o",
        "outputId": "cf24752f-5fd0-4d7a-f89b-596f510a2fd3",
        "colab": {
          "base_uri": "https://localhost:8080/"
        }
      },
      "source": [
        "x=int(input())\n",
        "def fiB(n):\n",
        "\tif n<=1:\n",
        "\t\treturn n\n",
        "\telse:\n",
        "\t\treturn fiB(n-1)+fiB(n-2)\t\n",
        "\n",
        "if (x<1) or (x>30):\n",
        "\tprint('So ',x,' khong nam trong khoang [1,30].')\n",
        "else: \n",
        "\tprint(int(fiB(x)))"
      ],
      "execution_count": 1,
      "outputs": [
        {
          "output_type": "stream",
          "text": [
            "-6\n",
            "So  -6  khong nam trong khoang [1,30].\n"
          ],
          "name": "stdout"
        }
      ]
    }
  ]
}