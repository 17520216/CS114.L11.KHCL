{
  "nbformat": 4,
  "nbformat_minor": 0,
  "metadata": {
    "colab": {
      "name": "Linear Regression.ipynb",
      "provenance": [],
      "collapsed_sections": [],
      "authorship_tag": "ABX9TyMyZ/AHOiUM0YxA3IcO3MA4",
      "include_colab_link": true
    },
    "kernelspec": {
      "name": "python3",
      "display_name": "Python 3"
    }
  },
  "cells": [
    {
      "cell_type": "markdown",
      "metadata": {
        "id": "view-in-github",
        "colab_type": "text"
      },
      "source": [
        "<a href=\"https://colab.research.google.com/github/lehoangkhanh-17520623/CS114.L11.KHCL/blob/master/Linear_Regression.ipynb\" target=\"_parent\"><img src=\"https://colab.research.google.com/assets/colab-badge.svg\" alt=\"Open In Colab\"/></a>"
      ]
    },
    {
      "cell_type": "markdown",
      "metadata": {
        "id": "tMQCITMSirnY"
      },
      "source": [
        "\n",
        "Bài toán: Thời gian chạy của thuật toán"
      ]
    },
    {
      "cell_type": "markdown",
      "metadata": {
        "id": "DWuRP1nc-ujN"
      },
      "source": [
        "Lấy dữ liệu:"
      ]
    },
    {
      "cell_type": "code",
      "metadata": {
        "id": "2RlcKC8jwLUc",
        "outputId": "512fbc9e-fc7e-4577-9a2f-c2e41c0b36f3",
        "colab": {
          "base_uri": "https://localhost:8080/"
        }
      },
      "source": [
        "!wget http://cs.uit.edu.vn/data.txt"
      ],
      "execution_count": null,
      "outputs": [
        {
          "output_type": "stream",
          "text": [
            "--2020-11-15 15:11:23--  http://cs.uit.edu.vn/data.txt\n",
            "Resolving cs.uit.edu.vn (cs.uit.edu.vn)... 118.69.123.142\n",
            "Connecting to cs.uit.edu.vn (cs.uit.edu.vn)|118.69.123.142|:80... connected.\n",
            "HTTP request sent, awaiting response... 200 OK\n",
            "Length: 84410 (82K) [text/plain]\n",
            "Saving to: ‘data.txt.5’\n",
            "\n",
            "data.txt.5          100%[===================>]  82.43K   184KB/s    in 0.4s    \n",
            "\n",
            "2020-11-15 15:11:25 (184 KB/s) - ‘data.txt.5’ saved [84410/84410]\n",
            "\n"
          ],
          "name": "stdout"
        }
      ]
    },
    {
      "cell_type": "markdown",
      "metadata": {
        "id": "CWEqwEdD-pWO"
      },
      "source": [
        "import thư viện:"
      ]
    },
    {
      "cell_type": "code",
      "metadata": {
        "id": "MtWdVB16Zpx5"
      },
      "source": [
        "import pandas as pd\n",
        "import numpy as np\n",
        "from pandas import DataFrame\n",
        "import matplotlib.pyplot as plt\n",
        "\n",
        "from sklearn.linear_model import LinearRegression\n",
        "from sklearn.metrics import mean_squared_error, r2_score"
      ],
      "execution_count": null,
      "outputs": []
    },
    {
      "cell_type": "code",
      "metadata": {
        "id": "UbviVdTa6Gad",
        "outputId": "0107c3c9-bad6-46f4-bf52-d1c35e5d7796",
        "colab": {
          "base_uri": "https://localhost:8080/",
          "height": 287
        }
      },
      "source": [
        "# file data.txt\n",
        "data = pd.read_csv('data.txt',header=None)\n",
        "X  = data[0]\n",
        "Y  = data[1]\n",
        "data.describe()"
      ],
      "execution_count": null,
      "outputs": [
        {
          "output_type": "execute_result",
          "data": {
            "text/html": [
              "<div>\n",
              "<style scoped>\n",
              "    .dataframe tbody tr th:only-of-type {\n",
              "        vertical-align: middle;\n",
              "    }\n",
              "\n",
              "    .dataframe tbody tr th {\n",
              "        vertical-align: top;\n",
              "    }\n",
              "\n",
              "    .dataframe thead th {\n",
              "        text-align: right;\n",
              "    }\n",
              "</style>\n",
              "<table border=\"1\" class=\"dataframe\">\n",
              "  <thead>\n",
              "    <tr style=\"text-align: right;\">\n",
              "      <th></th>\n",
              "      <th>0</th>\n",
              "      <th>1</th>\n",
              "    </tr>\n",
              "  </thead>\n",
              "  <tbody>\n",
              "    <tr>\n",
              "      <th>count</th>\n",
              "      <td>5.211000e+03</td>\n",
              "      <td>5211.000000</td>\n",
              "    </tr>\n",
              "    <tr>\n",
              "      <th>mean</th>\n",
              "      <td>4.991583e+06</td>\n",
              "      <td>1.363322</td>\n",
              "    </tr>\n",
              "    <tr>\n",
              "      <th>std</th>\n",
              "      <td>2.903517e+06</td>\n",
              "      <td>0.825849</td>\n",
              "    </tr>\n",
              "    <tr>\n",
              "      <th>min</th>\n",
              "      <td>2.390000e+02</td>\n",
              "      <td>0.000028</td>\n",
              "    </tr>\n",
              "    <tr>\n",
              "      <th>25%</th>\n",
              "      <td>2.451362e+06</td>\n",
              "      <td>0.630964</td>\n",
              "    </tr>\n",
              "    <tr>\n",
              "      <th>50%</th>\n",
              "      <td>5.032102e+06</td>\n",
              "      <td>1.355770</td>\n",
              "    </tr>\n",
              "    <tr>\n",
              "      <th>75%</th>\n",
              "      <td>7.523041e+06</td>\n",
              "      <td>2.076820</td>\n",
              "    </tr>\n",
              "    <tr>\n",
              "      <th>max</th>\n",
              "      <td>9.995358e+06</td>\n",
              "      <td>3.315540</td>\n",
              "    </tr>\n",
              "  </tbody>\n",
              "</table>\n",
              "</div>"
            ],
            "text/plain": [
              "                  0            1\n",
              "count  5.211000e+03  5211.000000\n",
              "mean   4.991583e+06     1.363322\n",
              "std    2.903517e+06     0.825849\n",
              "min    2.390000e+02     0.000028\n",
              "25%    2.451362e+06     0.630964\n",
              "50%    5.032102e+06     1.355770\n",
              "75%    7.523041e+06     2.076820\n",
              "max    9.995358e+06     3.315540"
            ]
          },
          "metadata": {
            "tags": []
          },
          "execution_count": 55
        }
      ]
    },
    {
      "cell_type": "code",
      "metadata": {
        "id": "anlA2J46_FXh"
      },
      "source": [
        "\n",
        "# Split the data into training/testing sets\n",
        "X_train = np.array(X[:-1000])\n",
        "X_test = np.array(X[-1000:])\n",
        "\n",
        "# Split the targets into training/testing sets\n",
        "Y_train = np.array(Y[:-1000])\n",
        "Y_test = np.array(Y[-1000:])\n",
        "\n",
        "X_train = X_train.reshape(-1,1)\n",
        "Y_train = Y_train.reshape(-1,1)\n",
        "X_test = X_test.reshape(-1,1)\n",
        "X_test = X_test.reshape(-1,1)"
      ],
      "execution_count": null,
      "outputs": []
    },
    {
      "cell_type": "markdown",
      "metadata": {
        "id": "03lxTsr99c3D"
      },
      "source": [
        "Vẽ biểu đồ trực quan hóa:"
      ]
    },
    {
      "cell_type": "code",
      "metadata": {
        "id": "kL7BfmE60ZhV",
        "outputId": "77a33d41-fe23-4d66-9577-59ef0b0beaf2",
        "colab": {
          "base_uri": "https://localhost:8080/",
          "height": 278
        }
      },
      "source": [
        "plt.scatter(X_train, Y_train, alpha = 0.3)\n",
        "plt.ylabel('Running time')\n",
        "plt.xlim(0,)\n",
        "plt.ylim(0,)\n",
        "plt.show()"
      ],
      "execution_count": 91,
      "outputs": [
        {
          "output_type": "display_data",
          "data": {
            "image/png": "[encoded data removed]",
            "text/plain": [
              "<Figure size 432x288 with 1 Axes>"
            ]
          },
          "metadata": {
            "tags": [],
            "needs_background": "light"
          }
        }
      ]
    },
    {
      "cell_type": "code",
      "metadata": {
        "id": "GM1oEAG8H-HS",
        "outputId": "2ae69d79-bd1d-4267-e0be-fce601484a22",
        "colab": {
          "base_uri": "https://localhost:8080/"
        }
      },
      "source": [
        "# Create linear regression object\n",
        "regression = LinearRegression()\n",
        "\n",
        "# Train the model using the training sets\n",
        "regression.fit(X_train, Y_train)"
      ],
      "execution_count": null,
      "outputs": [
        {
          "output_type": "execute_result",
          "data": {
            "text/plain": [
              "LinearRegression(copy_X=True, fit_intercept=True, n_jobs=None, normalize=False)"
            ]
          },
          "metadata": {
            "tags": []
          },
          "execution_count": 65
        }
      ]
    },
    {
      "cell_type": "markdown",
      "metadata": {
        "id": "S4KPYTTOIpEh"
      },
      "source": [
        "Giá trị hệ số góc:"
      ]
    },
    {
      "cell_type": "code",
      "metadata": {
        "id": "Jn_T3Z_NIZux",
        "outputId": "7480e787-8868-49b0-828d-37340d51e482",
        "colab": {
          "base_uri": "https://localhost:8080/"
        }
      },
      "source": [
        "regression.coef_ # theta_1"
      ],
      "execution_count": null,
      "outputs": [
        {
          "output_type": "execute_result",
          "data": {
            "text/plain": [
              "array([[2.84130124e-07]])"
            ]
          },
          "metadata": {
            "tags": []
          },
          "execution_count": 59
        }
      ]
    },
    {
      "cell_type": "markdown",
      "metadata": {
        "id": "Pbf8wh-ZJE7O"
      },
      "source": [
        "Điểm cắt trục y:"
      ]
    },
    {
      "cell_type": "code",
      "metadata": {
        "id": "AOOzq9pJI8wM",
        "outputId": "eec4040c-4103-4c71-953a-ff81720f9d38",
        "colab": {
          "base_uri": "https://localhost:8080/"
        }
      },
      "source": [
        "regression.intercept_ # theta_0"
      ],
      "execution_count": null,
      "outputs": [
        {
          "output_type": "execute_result",
          "data": {
            "text/plain": [
              "array([-0.0541655])"
            ]
          },
          "metadata": {
            "tags": []
          },
          "execution_count": 60
        }
      ]
    },
    {
      "cell_type": "markdown",
      "metadata": {
        "id": "m5HnwJ6tKNZp"
      },
      "source": [
        "Vẽ đường thẳng Linear Regression trên tập dữ liệu training:"
      ]
    },
    {
      "cell_type": "code",
      "metadata": {
        "id": "WVln9uMTJS91",
        "outputId": "7d0e1db4-e055-4997-efcd-cf0d63fbe263",
        "colab": {
          "base_uri": "https://localhost:8080/",
          "height": 294
        }
      },
      "source": [
        "plt.scatter(X_train, Y_train, alpha = 0.3)\n",
        "plt.plot(X_train, regression.predict(X_train), color='red')\n",
        "\n",
        "plt.ylabel('Running time')\n",
        "plt.title('Linear Regression of training data')\n",
        "plt.xlim(0,)\n",
        "plt.ylim(0,)\n",
        "plt.show()"
      ],
      "execution_count": 93,
      "outputs": [
        {
          "output_type": "display_data",
          "data": {
            "image/png": "[encoded data removed]",
            "text/plain": [
              "<Figure size 432x288 with 1 Axes>"
            ]
          },
          "metadata": {
            "tags": [],
            "needs_background": "light"
          }
        }
      ]
    },
    {
      "cell_type": "markdown",
      "metadata": {
        "id": "rVegvF6AeKcf"
      },
      "source": [
        "Vẽ đường thẳng Linear Regression trên tập dữ liệu test:"
      ]
    },
    {
      "cell_type": "code",
      "metadata": {
        "id": "h57l5jdNeI6Z",
        "outputId": "77b00458-6927-4972-c326-92ed671c9e9e",
        "colab": {
          "base_uri": "https://localhost:8080/",
          "height": 294
        }
      },
      "source": [
        "plt.scatter(X_test, Y_test, alpha = 0.3)\n",
        "plt.plot(X_train, regression.predict(X_train), color='red')\n",
        "\n",
        "plt.ylabel('Running time')\n",
        "plt.title('Linear Regression of test data')\n",
        "plt.xlim(0,)\n",
        "plt.ylim(0,)\n",
        "plt.show()"
      ],
      "execution_count": 92,
      "outputs": [
        {
          "output_type": "display_data",
          "data": {
            "image/png": "[encoded data removed]",
            "text/plain": [
              "<Figure size 432x288 with 1 Axes>"
            ]
          },
          "metadata": {
            "tags": [],
            "needs_background": "light"
          }
        }
      ]
    },
    {
      "cell_type": "markdown",
      "metadata": {
        "id": "4_k7ZwdMgdzU"
      },
      "source": [
        "Goodness of fit:"
      ]
    },
    {
      "cell_type": "code",
      "metadata": {
        "id": "lC1RFSkkKsvs",
        "outputId": "995c83a0-fe90-4bef-b459-328f4cd63768",
        "colab": {
          "base_uri": "https://localhost:8080/"
        }
      },
      "source": [
        "regression.score(X_test,Y_test)"
      ],
      "execution_count": null,
      "outputs": [
        {
          "output_type": "execute_result",
          "data": {
            "text/plain": [
              "0.9983913305331106"
            ]
          },
          "metadata": {
            "tags": []
          },
          "execution_count": 73
        }
      ]
    },
    {
      "cell_type": "markdown",
      "metadata": {
        "id": "WUtYeO4lgytN"
      },
      "source": [
        "Độ lỗi:"
      ]
    },
    {
      "cell_type": "code",
      "metadata": {
        "id": "bFaP21UdephQ",
        "outputId": "53436489-7f62-46ed-bcdb-a6b3584dee52",
        "colab": {
          "base_uri": "https://localhost:8080/"
        }
      },
      "source": [
        "mean_squared_error(Y_test, regression.predict(X_test))"
      ],
      "execution_count": null,
      "outputs": [
        {
          "output_type": "execute_result",
          "data": {
            "text/plain": [
              "0.0010644228869562057"
            ]
          },
          "metadata": {
            "tags": []
          },
          "execution_count": 86
        }
      ]
    }
  ]
}