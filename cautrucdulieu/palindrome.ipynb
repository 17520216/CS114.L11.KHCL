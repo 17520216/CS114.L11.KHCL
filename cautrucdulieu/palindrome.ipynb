{
  "nbformat": 4,
  "nbformat_minor": 0,
  "metadata": {
    "colab": {
      "name": "Untitled10.ipynb",
      "provenance": [],
      "authorship_tag": "ABX9TyOCWoLC1T/iTvES5uCBTo5r",
      "include_colab_link": true
    },
    "kernelspec": {
      "name": "python3",
      "display_name": "Python 3"
    }
  },
  "cells": [
    {
      "cell_type": "markdown",
      "metadata": {
        "id": "view-in-github",
        "colab_type": "text"
      },
      "source": [
        "<a href=\"https://colab.research.google.com/github/17520216/CS114.L11.KHCL/blob/master/cautrucdulieu/palindrome.ipynb\" target=\"_parent\"><img src=\"https://colab.research.google.com/assets/colab-badge.svg\" alt=\"Open In Colab\"/></a>"
      ]
    },
    {
      "cell_type": "markdown",
      "metadata": {
        "id": "vQRFn1X0RB-X"
      },
      "source": [
        "##Chuỗi con Palindrome\n",
        "\n",
        "Chuỗi Palindrome là chuỗi khi đọc từ trái sang phải hoặc phải sang trái đều giống nhau. Chẳng hạn, aba, bbaabb, abcddcba là các chuỗi palindrome, trong khi mca, tiu không phải. Nhập vào một chuỗi, hãy giúp Bình đếm số chuỗi con palindrome trong chuỗi vừa nhập. Biết chuỗi con là chuỗi có thể được tạo thành bởi một số kí tự liên tiếp từ chuỗi nhập vào. Ví dụ: ab, bcd, ej là chuỗi con của abcdejk, trong khi acde không phải.\n",
        "\n",
        "##INPUT\n",
        "\n",
        "Một chuỗi chỉ bao gồm các kí tự thường với độ dài chuỗi bé hơn 1000.\n",
        "\n",
        "##OUTPUT\n",
        "\n",
        "Số lượng chuỗi Palindrome có trong chuỗi nhập vào\n",
        "\n"
      ]
    },
    {
      "cell_type": "code",
      "metadata": {
        "id": "Po9LRSUKTj_8",
        "outputId": "69769f04-53e1-43f2-bd69-d61503ca645b",
        "colab": {
          "base_uri": "https://localhost:8080/"
        }
      },
      "source": [
        "k=0\n",
        "s=str(input())\n",
        "def isP(s):\n",
        "    rev_s=s[::-1]\n",
        "    if rev_s==s:\n",
        "        return 1\n",
        "    else:\n",
        "        return 0\n",
        "for i in range(len(s)+1):\n",
        "    for j in range(i,len(s)+1):\n",
        "        if isP(s[i:j])==1:\n",
        "            k=k+1;\n",
        "print(k-len(s)-1)"
      ],
      "execution_count": 4,
      "outputs": [
        {
          "output_type": "stream",
          "text": [
            "aba\n",
            "4\n"
          ],
          "name": "stdout"
        }
      ]
    }
  ]
}