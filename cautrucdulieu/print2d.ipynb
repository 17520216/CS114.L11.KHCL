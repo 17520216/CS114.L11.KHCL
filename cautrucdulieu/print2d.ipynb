{
  "nbformat": 4,
  "nbformat_minor": 0,
  "metadata": {
    "colab": {
      "name": "Untitled10.ipynb",
      "provenance": [],
      "authorship_tag": "ABX9TyNNcUKUJQIxs/jPNAVQ/7a0",
      "include_colab_link": true
    },
    "kernelspec": {
      "name": "python3",
      "display_name": "Python 3"
    }
  },
  "cells": [
    {
      "cell_type": "markdown",
      "metadata": {
        "id": "view-in-github",
        "colab_type": "text"
      },
      "source": [
        "<a href=\"https://colab.research.google.com/github/17520216/CS114.L11.KHCL/blob/master/cautrucdulieu/print2d.ipynb\" target=\"_parent\"><img src=\"https://colab.research.google.com/assets/colab-badge.svg\" alt=\"Open In Colab\"/></a>"
      ]
    },
    {
      "cell_type": "markdown",
      "metadata": {
        "id": "vQRFn1X0RB-X"
      },
      "source": [
        "##Print mảng 2d\n",
        "\n",
        "Bình đang làm bài tập mảng 2 chiều nâng rất rất cao. Bình cần xuất mảng ra màn hình để quan sát. Tuy nhiên do các số nguyên trong mảng độ dài khác nhau nên khi xuất ra nhìn rất lộn xộn, không biết được số nào ở cột nào. Bạn hãy viết giúp Bình hàm xuất mảng một cách ngay ngắn.\n",
        "\n",
        "##INPUT\n",
        "Dòng đầu tiên chứa hai số r và c là số dòng và số cột của mảng, mỗi số không quá 1000.\n",
        "\n",
        "r dòng tiếp theo, mỗi dòng chứa c số nguyên. Đây là các phần tử trong mảng 2 chiều\n",
        "\n",
        "##OUTPUT\n",
        "Mảng 2 chiều được canh lề phải ở các cột. Tức là chữ số cuối cùng của các cột được viết thẳng hàng với nhau. Các chỗ trống được lấp đầy bằng ký tự khoảng trắng\n",
        "\n",
        "Lưu ý là đê đảm bảo chính xác ở cuối mỗi dòng của ma trận chỉ được xuất ký tự xuống dòng, không được xuất khoảng trắng thừa.\n",
        "\n"
      ]
    },
    {
      "cell_type": "code",
      "metadata": {
        "id": "M9RnAnWbSzis",
        "outputId": "775deae7-6f47-468e-c9ca-9c400d5b5f00",
        "colab": {
          "base_uri": "https://localhost:8080/"
        }
      },
      "source": [
        "row=list(map(int,input().split())) #input no. of row and column\n",
        "b=[]\n",
        "s=''\n",
        "maxU=[]\n",
        "if row[0]>1000:\n",
        "    row[0]=1000\n",
        "if row[1]>1000:\n",
        "    row[1]=1000\n",
        "for i in range(0,row[0]):\n",
        "    a=list(map(int,input().split()))\n",
        "    b.append(a)\n",
        "for i in range(0,row[1]):\n",
        "    maxU.append((len(str(b[0][i]))))\n",
        "    _max=len(str(b[0][i]))\n",
        "    for j in range(0,row[0]):\n",
        "        if _max<len(str(b[j][i])):\n",
        "            _max=len(str(b[j][i]))\n",
        "            maxU[i]=_max\n",
        "for i in range(0,row[0]):\n",
        "    for j in range(0,row[1]):\n",
        "        s=s+str((' '*int(maxU[j]-len(str(b[i][j])))+str(b[i][j])))+' '\n",
        "    print(s.rstrip())\n",
        "    s=''"
      ],
      "execution_count": 3,
      "outputs": [
        {
          "output_type": "stream",
          "text": [
            "2 2\n",
            "2 3\n",
            "4 6\n",
            "2 3\n",
            "4 6\n"
          ],
          "name": "stdout"
        }
      ]
    }
  ]
}