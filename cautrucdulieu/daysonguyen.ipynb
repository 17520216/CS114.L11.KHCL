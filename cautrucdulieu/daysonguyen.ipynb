{
  "nbformat": 4,
  "nbformat_minor": 0,
  "metadata": {
    "colab": {
      "name": "Untitled10.ipynb",
      "provenance": [],
      "authorship_tag": "ABX9TyP8TQAMQ/3ILwdKoxUzCasK",
      "include_colab_link": true
    },
    "kernelspec": {
      "name": "python3",
      "display_name": "Python 3"
    }
  },
  "cells": [
    {
      "cell_type": "markdown",
      "metadata": {
        "id": "view-in-github",
        "colab_type": "text"
      },
      "source": [
        "<a href=\"https://colab.research.google.com/github/17520216/CS114.L11.KHCL/blob/master/cautrucdulieu/daysonguyen.ipynb\" target=\"_parent\"><img src=\"https://colab.research.google.com/assets/colab-badge.svg\" alt=\"Open In Colab\"/></a>"
      ]
    },
    {
      "cell_type": "markdown",
      "metadata": {
        "id": "vQRFn1X0RB-X"
      },
      "source": [
        "##Dãy số nguyên\n",
        "\n",
        "Tất cả các số nguyên dương được viết trên một dòng liên tiếp nhau tạo thành một dãy số có dạng \"123456789101112131415...\".\n",
        "\n",
        "Nhiệm vụ của bạn là in ra chữ số thứ \n",
        "n\n",
        " trong dãy đó (chỉ số đầu tiên là 1).\n",
        "\n",
        "##INPUT:\n",
        "\n",
        "Dòng đầu tiên là một số nguyên \n",
        "n\n",
        " \n",
        "(\n",
        "1\n",
        "≤\n",
        "n\n",
        "≤\n",
        "1000\n",
        ")\n",
        " — vị trí chữ số cần in.\n",
        "\n",
        "##OUTPUT:\n",
        "\n",
        "In ra màn hình chữ số ở vị trí \n",
        "n\n",
        " trong dãy.\n"
      ]
    },
    {
      "cell_type": "code",
      "metadata": {
        "id": "gpASlI27UHmc",
        "outputId": "b1055a71-973b-49be-a368-156d0acfda28",
        "colab": {
          "base_uri": "https://localhost:8080/"
        }
      },
      "source": [
        "n=int(input())\n",
        "a=' '\n",
        "string=str('')\n",
        "s=(list(range(400)))\n",
        "for i in range(1,400):\n",
        "    a=a+str(s.index(i))\n",
        "print(a[n])"
      ],
      "execution_count": 5,
      "outputs": [
        {
          "output_type": "stream",
          "text": [
            "11\n",
            "0\n"
          ],
          "name": "stdout"
        }
      ]
    }
  ]
}