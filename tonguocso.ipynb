{
  "nbformat": 4,
  "nbformat_minor": 0,
  "metadata": {
    "colab": {
      "name": "Untitled8.ipynb",
      "provenance": [],
      "authorship_tag": "ABX9TyNWd4OKsvrbh8KrHsgnJL5n",
      "include_colab_link": true
    },
    "kernelspec": {
      "name": "python3",
      "display_name": "Python 3"
    }
  },
  "cells": [
    {
      "cell_type": "markdown",
      "metadata": {
        "id": "view-in-github",
        "colab_type": "text"
      },
      "source": [
        "<a href=\"https://colab.research.google.com/github/17520216/CS114.L11.KHCL/blob/master/tonguocso.ipynb\" target=\"_parent\"><img src=\"https://colab.research.google.com/assets/colab-badge.svg\" alt=\"Open In Colab\"/></a>"
      ]
    },
    {
      "cell_type": "markdown",
      "metadata": {
        "id": "1nSqcp4bO_pC"
      },
      "source": [
        "##Tổng ước số\n",
        "Viết chương trình tính tổng các ước số thực sự của một số nguyên dương.\n",
        "\n",
        "INPUT\n",
        "\n",
        "Số nguyên dương n giá trị không quá 1 tỷ.\n",
        "\n",
        "OUTPUT\n",
        "\n",
        "Tổng các ước số của n (không kể n)"
      ]
    },
    {
      "cell_type": "code",
      "metadata": {
        "id": "IlO8rKY_PHUM",
        "outputId": "8e96176e-d331-444a-fa3d-c4291892e856",
        "colab": {
          "base_uri": "https://localhost:8080/"
        }
      },
      "source": [
        "n=int(input())\n",
        "a=n\n",
        "k=0\n",
        "while n!=0:\n",
        "  if a%n==0:\n",
        "    k=k+n\n",
        "  n=n-1\n",
        "print(k-a)"
      ],
      "execution_count": 1,
      "outputs": [
        {
          "output_type": "stream",
          "text": [
            "8\n",
            "7\n"
          ],
          "name": "stdout"
        }
      ]
    }
  ]
}