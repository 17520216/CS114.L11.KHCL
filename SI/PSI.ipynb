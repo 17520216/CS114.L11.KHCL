{
  "nbformat": 4,
  "nbformat_minor": 0,
  "metadata": {
    "colab": {
      "name": "Untitled3.ipynb",
      "provenance": [],
      "authorship_tag": "ABX9TyMLfz3O1M/4ix1Md99tPIJm",
      "include_colab_link": true
    },
    "kernelspec": {
      "name": "python3",
      "display_name": "Python 3"
    }
  },
  "cells": [
    {
      "cell_type": "markdown",
      "metadata": {
        "id": "view-in-github",
        "colab_type": "text"
      },
      "source": [
        "<a href=\"https://colab.research.google.com/github/17520216/CS114.L11.KHCL/blob/master/SI/PSI.ipynb\" target=\"_parent\"><img src=\"https://colab.research.google.com/assets/colab-badge.svg\" alt=\"Open In Colab\"/></a>"
      ]
    },
    {
      "cell_type": "markdown",
      "metadata": {
        "id": "BzH342KZJT9M"
      },
      "source": [
        "##Độ đo áp suất SI/PSI\n",
        "Tìm ra áp suất chất lỏng/khí và cách đo đạt chúng là một vấn đề nghiên cứu vật lý thực nghiệm từng làm đau đầu nhiều nhà khoa học thời trung cổ. Đã có nhiều nhà khoa học khác nhau đề xuất các thang đo khác nhau. Tuy nhiên ngày nay một đơn vị đo áp suất phổ thông mà dễ hiểu là tính lực tác động (theo khối lượng) chia cho diện tích. Khổ nổi trong hệ đo lường quốc tế (SI) và hệ đo Imperial phổ biến ở Mỹ người ta đo khối lượng và áp suất bằng cách đơn vị khác nhau. Bạn Bình vừa mua một con mô-tô phân khối lớn hàng nhập nguyên chiếc từ Mỹ về, tài liệu hướng dẫn của xe ghi áp suất phù hợp khi bơm xe bằng đơn vị PSI (Pound / square inches - 1 pound lực trên một inch vuông). Còn ống bơm của Bình tích hợp đồng hồ đo áp suất bằng đơn vị kg/cm2 (1 kilogram lực trên một centimét vuông).\n",
        "\n",
        "Biết: <strong>1 pound = 0.453592 kg </strong>\n",
        "\n",
        "và <strong> 1 inch = 2,54 cm </strong>\n",
        "\n",
        "<strong>Viết công thức giúp Bình đổi PSI sang kg/cm2</strong>\n",
        "\n"
      ]
    },
    {
      "cell_type": "code",
      "metadata": {
        "id": "rNT8EbOrJ1ax",
        "outputId": "2e7833a1-87c0-449e-aa59-e5cc081e3fe9",
        "colab": {
          "base_uri": "https://localhost:8080/"
        }
      },
      "source": [
        "a=float(input())\n",
        "c=0.453592/pow(2.54,2)*a\n",
        "if c<10:\n",
        "\tif (round(c,5)== int(c)):\n",
        "\t\tprint(round(c))\n",
        "\telse:\n",
        "\t\tprint(round(c,5))\n",
        "elif c<100:\n",
        "\tif (round(c,4)== int(c)):\n",
        "\t\tprint(round(c))\n",
        "\telse:\n",
        "\t\tprint(round(c,4))\n",
        "elif c<1000:\n",
        "\tif (round(c,3)== int(c)):\n",
        "\t\tprint(round(c))\n",
        "\telse:\n",
        "\t\tprint(round(c,3))\n",
        "elif c<10000:\n",
        "\tif (round(c,2)== int(c)):\n",
        "\t\tprint(round(c))\n",
        "\telse:\n",
        "\t\tprint(round(c,2))\n",
        "elif c<100000:\n",
        "\tif (round(c,1)== int(c)):\n",
        "\t\tprint(round(c))\n",
        "\telse:\n",
        "\t\tprint(round(c,1))\n",
        "else:\n",
        "\tprint(int(c))"
      ],
      "execution_count": 1,
      "outputs": [
        {
          "output_type": "stream",
          "text": [
            "15\n",
            "1.0546\n"
          ],
          "name": "stdout"
        }
      ]
    }
  ]
}