{
  "nbformat": 4,
  "nbformat_minor": 0,
  "metadata": {
    "colab": {
      "name": "Untitled10.ipynb",
      "provenance": [],
      "authorship_tag": "ABX9TyPgTMCqzOjBWGqXrgty5aOW",
      "include_colab_link": true
    },
    "kernelspec": {
      "name": "python3",
      "display_name": "Python 3"
    }
  },
  "cells": [
    {
      "cell_type": "markdown",
      "metadata": {
        "id": "view-in-github",
        "colab_type": "text"
      },
      "source": [
        "<a href=\"https://colab.research.google.com/github/17520216/CS114.L11.KHCL/blob/master/contro/duyetcaytheochieurong.ipynb\" target=\"_parent\"><img src=\"https://colab.research.google.com/assets/colab-badge.svg\" alt=\"Open In Colab\"/></a>"
      ]
    },
    {
      "cell_type": "markdown",
      "metadata": {
        "id": "vQRFn1X0RB-X"
      },
      "source": [
        "##Duyệt cây theo chiều rộng\n",
        "\n",
        "Cho một dãy số. Lần lượt thêm các số trong dãy vào một cây nhị phân tìm kiếm, sau đó duyệt và xuất cây ra màn hình theo thứ tự duyệt theo chiều rộng (các node có mức thấp được xuất trước, đối với các node có cùng mức xuất node có giá trị nhỏ trước)\n",
        "\n",
        "##INPUT\n",
        "Một dãy số nguyên khác 0, mỗi số trên một hàng. Dãy số tận cùng bằng số 0\n",
        "\n",
        "##OUTPUT\n",
        "Xuất trên một hàng giá trị các node trên cây khi duyệt theo chiều rộng\n",
        "\n"
      ]
    },
    {
      "cell_type": "code",
      "metadata": {
        "id": "MG5Xtot7SJ7O",
        "outputId": "0502be3e-f155-4d04-c1ee-a863e097e500",
        "colab": {
          "base_uri": "https://localhost:8080/"
        }
      },
      "source": [
        "class Node:\n",
        "    def __init__(self, data):\n",
        "        self.left = None\n",
        "        self.right = None\n",
        "        self.data = data\n",
        "    def insert(self, data):\n",
        "        if self.data:\n",
        "            if data < self.data:\n",
        "                if self.left is None:\n",
        "                    self.left = Node(data)\n",
        "                else:\n",
        "                    self.left.insert(data)\n",
        "            elif data > self.data:\n",
        "                if self.right is None:\n",
        "                    self.right = Node(data)\n",
        "                else:\n",
        "                    self.right.insert(data)\n",
        "        else:\n",
        "            self.data = data\n",
        "    def Breadth_first_search(self,root):\n",
        "        visited = []\n",
        "        ketqua = \"\"\n",
        "        if root:\n",
        "            visited.append(root)\n",
        "            ketqua += str(root.data)\n",
        "        current = root\n",
        "        while current :\n",
        "            if current.left:\n",
        "                ketqua += \" \" + str(current.left.data)\n",
        "                visited.append(current.left)\n",
        "            if current.right:\n",
        "                ketqua += \" \" + str(current.right.data)\n",
        "                visited.append(current.right)\n",
        "            visited.pop(0)\n",
        "            if not visited:\n",
        "                break\n",
        "            current = visited[0]\n",
        "        print(ketqua)\n",
        "a = int(input())\n",
        "root = Node(a)\n",
        "a = int(input())\n",
        "while a!= 0:\n",
        "    root.insert(a)\n",
        "    a = int(input())\n",
        "root.Breadth_first_search(root)"
      ],
      "execution_count": 2,
      "outputs": [
        {
          "output_type": "stream",
          "text": [
            "339\n",
            "342\n",
            "4\n",
            "56\n",
            "45\n",
            "678\n",
            "0\n",
            "339 4 342 56 678 45\n"
          ],
          "name": "stdout"
        }
      ]
    }
  ]
}