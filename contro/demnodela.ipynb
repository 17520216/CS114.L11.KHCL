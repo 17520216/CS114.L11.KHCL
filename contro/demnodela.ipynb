{
  "nbformat": 4,
  "nbformat_minor": 0,
  "metadata": {
    "colab": {
      "name": "Untitled10.ipynb",
      "provenance": [],
      "authorship_tag": "ABX9TyO0kT+ooHVlilShTqwpLhOP",
      "include_colab_link": true
    },
    "kernelspec": {
      "name": "python3",
      "display_name": "Python 3"
    }
  },
  "cells": [
    {
      "cell_type": "markdown",
      "metadata": {
        "id": "view-in-github",
        "colab_type": "text"
      },
      "source": [
        "<a href=\"https://colab.research.google.com/github/17520216/CS114.L11.KHCL/blob/master/contro/demnodela.ipynb\" target=\"_parent\"><img src=\"https://colab.research.google.com/assets/colab-badge.svg\" alt=\"Open In Colab\"/></a>"
      ]
    },
    {
      "cell_type": "markdown",
      "metadata": {
        "id": "vQRFn1X0RB-X"
      },
      "source": [
        "##Đếm node lá\n",
        "Cho một dãy số, hãy cho biết số node lá của cây nhị phân tìm kiếm thu được khi thêm lần lượt các số trong dãy vào cây.\n",
        "\n",
        "##INPUT\n",
        "Một dãy số nguyên khác 0, mỗi số trên một hàng. Dãy số tận cùng bằng số 0\n",
        "\n",
        "##OUTPUT\n",
        "Số node lá trong cây"
      ]
    },
    {
      "cell_type": "code",
      "metadata": {
        "id": "dDohK05RRbjp",
        "outputId": "db8fef5d-728f-42d5-b522-202325984b4c",
        "colab": {
          "base_uri": "https://localhost:8080/"
        }
      },
      "source": [
        "class Node:\n",
        "    def __init__(self, data):\n",
        "        self.left = None\n",
        "        self.right = None\n",
        "        self.data = data\n",
        "    def insert(self, data):\n",
        "        if self.data:\n",
        "            if data < self.data:\n",
        "                if self.left is None:\n",
        "                    self.left = Node(data)\n",
        "                else:\n",
        "                    self.left.insert(data)\n",
        "            elif data > self.data:\n",
        "                if self.right is None:\n",
        "                    self.right = Node(data)\n",
        "                else:\n",
        "                    self.right.insert(data)\n",
        "        else:\n",
        "            self.data = data\n",
        "    def Count_Leafe_Node(self):\n",
        "        if self.left is None and self.right is None:\n",
        "            return 1\n",
        "        elif self.right is None:\n",
        "            return self.left.Count_Leafe_Node()\n",
        "        elif self.left is None:\n",
        "            return self.right.Count_Leafe_Node()\n",
        "        else:\n",
        "            return self.right.Count_Leafe_Node() + self.left.Count_Leafe_Node()\n",
        "a = int(input())\n",
        "root = Node(a)\n",
        "a = int(input())\n",
        "while a!= 0:\n",
        "    root.insert(a)\n",
        "    a = int(input())\n",
        "print(root.Count_Leafe_Node())"
      ],
      "execution_count": 1,
      "outputs": [
        {
          "output_type": "stream",
          "text": [
            "56\n",
            "666\n",
            "34\n",
            "0\n",
            "2\n"
          ],
          "name": "stdout"
        }
      ]
    }
  ]
}