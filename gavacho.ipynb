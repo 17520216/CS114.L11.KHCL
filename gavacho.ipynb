{
  "nbformat": 4,
  "nbformat_minor": 0,
  "metadata": {
    "colab": {
      "name": "Untitled4.ipynb",
      "provenance": [],
      "authorship_tag": "ABX9TyOVJeBm/5PCx1HYAL0o97C/",
      "include_colab_link": true
    },
    "kernelspec": {
      "name": "python3",
      "display_name": "Python 3"
    }
  },
  "cells": [
    {
      "cell_type": "markdown",
      "metadata": {
        "id": "view-in-github",
        "colab_type": "text"
      },
      "source": [
        "<a href=\"https://colab.research.google.com/github/17520216/CS114.L11.KHCL/blob/master/gavacho.ipynb\" target=\"_parent\"><img src=\"https://colab.research.google.com/assets/colab-badge.svg\" alt=\"Open In Colab\"/></a>"
      ]
    },
    {
      "cell_type": "markdown",
      "metadata": {
        "id": "_js53TuULNiI"
      },
      "source": [
        "##Gà và Chó\n",
        "Vừa gà vừa chó\n",
        "\n",
        "Bó lại cho tròn\n",
        "\n",
        "<strong>xxx</strong> con\n",
        "\n",
        "<strong>yy</strong>  chân chẵn\n",
        "\n",
        "Hãy xác định số con gà và số con chó thỏa mãn yêu cầu.\n",
        "\n",
        "<strong>Dữ liệu</strong> : Vào từ thiết bị nhập chuẩn gồm 1 dòng ghi 2 số nguyên xxx và yy (2≤ xxx, yy ≤ 109)\n",
        "\n",
        "<strong>Kết quả</strong> : Đưa ra thiết bị xuất chuẩn một dòng 2 số nguyên số gà và số chó tìm được.\n",
        "\n",
        "Dữ liệu luôn bảo đảm có kết quả."
      ]
    },
    {
      "cell_type": "code",
      "metadata": {
        "id": "kUTyFLL2Ll-X",
        "outputId": "2c1dc7cc-de3d-4b74-cc10-4eda4e3bc212",
        "colab": {
          "base_uri": "https://localhost:8080/"
        }
      },
      "source": [
        "a=input()\n",
        "b=a.rfind(' ')\n",
        "soco=int(a[0:b])\n",
        "sochan=int(a[b+1:])\n",
        "x=int((sochan-2*soco)/2)\n",
        "print(soco-x,' ',x)"
      ],
      "execution_count": 1,
      "outputs": [
        {
          "output_type": "stream",
          "text": [
            "36 100\n",
            "22   14\n"
          ],
          "name": "stdout"
        }
      ]
    }
  ]
}