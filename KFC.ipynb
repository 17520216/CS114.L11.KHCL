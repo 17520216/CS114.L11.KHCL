{
  "nbformat": 4,
  "nbformat_minor": 0,
  "metadata": {
    "colab": {
      "name": "Untitled2.ipynb",
      "provenance": [],
      "authorship_tag": "ABX9TyMACxN+bVZSZAPQaajdWchk",
      "include_colab_link": true
    },
    "kernelspec": {
      "name": "python3",
      "display_name": "Python 3"
    }
  },
  "cells": [
    {
      "cell_type": "markdown",
      "metadata": {
        "id": "view-in-github",
        "colab_type": "text"
      },
      "source": [
        "<a href=\"https://colab.research.google.com/github/17520216/CS114.L11.KHCL/blob/master/KFC.ipynb\" target=\"_parent\"><img src=\"https://colab.research.google.com/assets/colab-badge.svg\" alt=\"Open In Colab\"/></a>"
      ]
    },
    {
      "cell_type": "markdown",
      "metadata": {
        "id": "byT-B9lUIVtW"
      },
      "source": [
        "##Thang đo nhiệt độ KFC"
      ]
    },
    {
      "cell_type": "code",
      "metadata": {
        "id": "0BGEmod6ILjQ",
        "outputId": "98e5ee4a-16f1-4939-e0e8-22cb6243a54b",
        "colab": {
          "base_uri": "https://localhost:8080/"
        }
      },
      "source": [
        "a=float(input())\n",
        "c=float((5/9)*(a-32))\n",
        "k=c+273.15\n",
        "if abs(k)<10:\n",
        "\tif (int(k)==round(k,5)):\n",
        "\t\tk=round(k)\n",
        "\telse:\n",
        "\t\tk=round(k,5)\n",
        "elif abs(k)<100:\n",
        "\tif (int(k)==round(k,4)):\n",
        "\t\tk=round(k)\n",
        "\telse:\n",
        "\t\tk=round(k,4)\n",
        "elif abs(k)<1000:\n",
        "\tif (int(k)==round(k,3)):\n",
        "\t\tk=round(k)\n",
        "\telse:\n",
        "\t\tk=round(k,3)\n",
        "elif abs(k)<10000:\n",
        "\tif (int(k)==round(k,2)):\n",
        "\t\tk=round(k)\n",
        "\telse:\n",
        "\t\tk=round(k,2)\n",
        "elif abs(k)<100000:\n",
        "\tif (int(k)==round(k,1)):\n",
        "\t\tk=round(k)\n",
        "\telse:\n",
        "\t\tk=round(k,1)\n",
        "elif abs(k)<=100000:\n",
        "\tk=int(k)\n",
        "if abs(c)<10:\n",
        "\tif (round(c,5)== int(c)):\n",
        "\t\tprint(round(c),k)\n",
        "\telse:\n",
        "\t\tprint(round(c,5),k)\n",
        "\n",
        "elif abs(c)<100:\n",
        "\tif (round(c,4)== int(c)):\n",
        "\t\tprint(round(c),k)\n",
        "\telse:\n",
        "\t\tprint(round(c,4),k)\n",
        "elif abs(c)<1000:\n",
        "\tif (round(c,3)== int(c)):\n",
        "\t\tprint(round(c),k)\n",
        "\telse:\n",
        "\t\tprint(round(c,3),k)\n",
        "elif abs(c)<10000:\n",
        "\tif (round(c,2)== int(c)):\n",
        "\t\tprint(round(c),k)\n",
        "\telse:\n",
        "\t\tprint(round(c,2),k)\n",
        "elif abs(c)<100000:\n",
        "\tif (round(c,1)== int(c)):\n",
        "\t\tprint(round(c),k)\n",
        "\telse:\n",
        "\t\tprint(round(c,1),k)\n",
        "elif abs(c)>=100000:\n",
        "\tprint(int(c),int(k))"
      ],
      "execution_count": 4,
      "outputs": [
        {
          "output_type": "stream",
          "text": [
            "658.4\n",
            "348 621.15\n"
          ],
          "name": "stdout"
        }
      ]
    }
  ]
}