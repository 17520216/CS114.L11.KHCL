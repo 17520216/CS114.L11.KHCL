{
  "nbformat": 4,
  "nbformat_minor": 0,
  "metadata": {
    "colab": {
      "name": "Untitled6.ipynb",
      "provenance": [],
      "authorship_tag": "ABX9TyNZeq+D7adxCzc8m4hpGVS0",
      "include_colab_link": true
    },
    "kernelspec": {
      "name": "python3",
      "display_name": "Python 3"
    }
  },
  "cells": [
    {
      "cell_type": "markdown",
      "metadata": {
        "id": "view-in-github",
        "colab_type": "text"
      },
      "source": [
        "<a href=\"https://colab.research.google.com/github/17520216/CS114.L11.KHCL/blob/master/baikiemtra.ipynb\" target=\"_parent\"><img src=\"https://colab.research.google.com/assets/colab-badge.svg\" alt=\"Open In Colab\"/></a>"
      ]
    },
    {
      "cell_type": "markdown",
      "metadata": {
        "id": "l52FMSnPNA_I"
      },
      "source": [
        "##Bài kiểm tra\n",
        "Lice và Bob là đôi bạn thân trong lớp và thường giúp nhau trong giờ học. Hôm nay sẽ có tiết kiểm tra toán và như mọi khi – sẽ có k đề khác nhau. Lớp học có n học sinh. Các bàn trong lớp xếp thành một hàng dọc, mỗi bàn 2 người ngồi. Vị trí bên trái của bàn đánh số là 1, vị trí bên phải – đánh số 2. Đề bài được phát bắt đầu từ vị trí 1 của bàn 1 rồi đến vị trí 2 của bàn 1, tiếp theo là vị trí 1 của bàn 2, rồi tới vị trí 2 của bàn 2, . . . lần lượt các đề 1, đề 2, đề 3, . . . cho tới đề k rồi lại quay lại đề 1, đề 2, . . . cho tới khi tất cả các học sinh đều nhận được đề.\n",
        "\n",
        "Alice đến trước và ngồi vào vị trí quen thuộc của mình: hàng p và vị trí q. Bob đến sau và muốn ngồi vào nơi sẽ nhận được cùng đề với Alice và ở dãy bàn gần với dãy bàn của Alice nhất. Nếu có 2 cách ngồi thì Bob sẽ chọn bàn ở phía trước của Alice.\n",
        "Hãy xác định bàn u và vị trí v trong bàn nơi Bob cần phải ngồi. Nếu không có cách ngồi thỏa mãn thì đưa ra một số -1.\n",
        "\n",
        "Dữ liệu: Vào từ thiết bị nhập chuẩn:\n",
        "\n",
        "Dòng đầu tiên chứa một số nguyên n (2 ≤ n ≤ 109),\n",
        "\n",
        "Dòng thứ 2 chứa số nguyên k (2 ≤ k ≤ n),\n",
        "\n",
        "Dòng thứ 3 chứa số nguyên p (1 ≤ p ≤ (n+1)/2),\n",
        "\n",
        "Dòng thứ 4 chứa số nguyên q (1 ≤ q ≤ 2).\n",
        "\n",
        "<strong>Kết quả</strong>: Đưa ra thiết bị xuất chuẩn một dòng 2 số nguyên u và v tìm được hoặc số -1 nếu không có cách ngồi thỏa mãn điều kiện đã nêu."
      ]
    },
    {
      "cell_type": "code",
      "metadata": {
        "id": "QeTwT0abNXUK",
        "outputId": "fdaaa113-3528-4dfd-e917-9d7e5a29ba69",
        "colab": {
          "base_uri": "https://localhost:8080/"
        }
      },
      "source": [
        "n=int(input())\n",
        "k=int(input())\n",
        "x=int(input())\n",
        "y=int(input())\n",
        "if(y==1):\n",
        "\ttdA=int(x*2-1)\n",
        "\tif(tdA>n):\n",
        "\t\tprint(-1)\n",
        "\telse:\n",
        "\t\tif (tdA<=k):\t\t   # Alice nhan de trong lan phat dau suy ra bob nhan lan sau\n",
        "\t\t\ttdB=int(tdA+k)\n",
        "\t\t\tif (tdB<=n):\n",
        "\t\t\t\tif (k%2==0):\n",
        "\t\t\t\t\tyB=y\n",
        "\t\t\t\t\txB=int((tdB+1)/2)\n",
        "\t\t\t\t\tprint(xB,yB)\n",
        "\t\t\t\telse:\n",
        "\t\t\t\t\tyB=3-y\n",
        "\t\t\t\t\txB=int(tdB/2)\n",
        "\t\t\t\t\tprint(xB,yB)\n",
        "\t\t\telse: print(-1)\n",
        "\t\telse: \n",
        "\t\t\ttdB=int(tdA-k)\n",
        "\t\t\tif(tdB<=n):\n",
        "\t\t\t\tif (k%2==0):\n",
        "\t\t\t\t\tyB=y\n",
        "\t\t\t\t\txB=int((tdB+1)/2)\n",
        "\t\t\t\t\tprint(xB,yB)\n",
        "\t\t\t\telse:\n",
        "\t\t\t\t\tyB=3-y\n",
        "\t\t\t\t\txB=int(tdB/2)\n",
        "\t\t\t\t\tprint(xB,yB)\n",
        "\t\t\telse: print(-1)\n",
        "elif y==2:\t\t\t\t\t#buoc nay la2 tim toa do\n",
        "\ttdA=int(x*2)\n",
        "\tif(tdA>n):\n",
        "\t\tprint(-1)\n",
        "\telse:\n",
        "\t\tif (tdA<=k):\n",
        "\t\t\ttdB=int(tdA+k)\n",
        "\t\t\tif(tdB<=n):\n",
        "\t\t\t\tif(k%2==0):\n",
        "\t\t\t\t\tyB=y\n",
        "\t\t\t\t\txB=int((tdB)/2)\n",
        "\t\t\t\t\tprint(xB,yB)\n",
        "\t\t\t\telse:\n",
        "\t\t\t\t\tyB=3-y\n",
        "\t\t\t\t\txB=int((tdB+1)/2)\n",
        "\t\t\t\t\tprint(xB,yB)\n",
        "\t\t\telse: print(-1)\t\t\t\n",
        "\t\telse: \n",
        "\t\t\ttdB=tdA-k\n",
        "\t\t\tif(tdB<=n):\n",
        "\t\t\t\tif(k%2==0):\n",
        "\t\t\t\t\tyB=y\n",
        "\t\t\t\t\txB=int((tdB)/2)\n",
        "\t\t\t\t\tprint(xB,yB)\n",
        "\t\t\t\telse:\n",
        "\t\t\t\t\tyB=3-y\n",
        "\t\t\t\t\txB=int((tdB+1)/2)\n",
        "\t\t\t\t\tprint(xB,yB)\n",
        "\t\t\telse: print(-1)\t\t\n",
        "elif (y>2): print(-1)"
      ],
      "execution_count": 1,
      "outputs": [
        {
          "output_type": "stream",
          "text": [
            "25\n",
            "2\n",
            "1\n",
            "2\n",
            "2 2\n"
          ],
          "name": "stdout"
        }
      ]
    }
  ]
}