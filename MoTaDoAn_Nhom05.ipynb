{
  "nbformat": 4,
  "nbformat_minor": 0,
  "metadata": {
    "colab": {
      "name": "MoTaDoAn_Nhom05.ipynb",
      "provenance": [],
      "collapsed_sections": [],
      "include_colab_link": true
    },
    "kernelspec": {
      "name": "python3",
      "display_name": "Python 3"
    }
  },
  "cells": [
    {
      "cell_type": "markdown",
      "metadata": {
        "id": "view-in-github",
        "colab_type": "text"
      },
      "source": [
        "<a href=\"https://colab.research.google.com/github/17520216/CS114.L11.KHCL/blob/master/MoTaDoAn_Nhom05.ipynb\" target=\"_parent\"><img src=\"https://colab.research.google.com/assets/colab-badge.svg\" alt=\"Open In Colab\"/></a>"
      ]
    },
    {
      "cell_type": "markdown",
      "metadata": {
        "id": "wUOMBWTS_lW_"
      },
      "source": [
        ""
      ]
    },
    {
      "cell_type": "markdown",
      "metadata": {
        "id": "emaGZurH6TT6"
      },
      "source": [
        "# Mô tả bài toán: NHẬN BIẾT TIN TỨC GIẢ\n",
        "\n",
        "\tInput: Một đoạn văn bản bất kỳ ( một đoạn tin tức bất kỳ )\n",
        "\tOutput: fake or real\n",
        "\n",
        "# Mô tả về bộ dữ liệu\n",
        "\n",
        "##\tCách thức xây dựng bộ dữ liệu: thu thập từ hai nguồn\n",
        "\n",
        "+ Bộ dữ liệu được thu thập trên Kaggle\n",
        "## Số lượng, độ đa dạng\n",
        "+ Có khoảng 40000 mẫu tin tức, bao gồm fake và real news đã được gán nhãn sẵn\n",
        "+ Số lượng khá bằng nhau vì vậy tốc độ huấn luyện mô hình khá tốt\n",
        "+ Bộ dữ liệu có 4 thuộc tính : tiêu đề, nội dung, thể loại, ngày.\n",
        "\n",
        "## Các thao tác tiền xử lý dữ liệu\n",
        "\n",
        "+ Loại bỏ stop-word\n",
        "+ Đưa các từ ngữ về nguên gốc của nó\n",
        "+ Loại bỏ những ký tự đặc biệt\n",
        "+ Chuyển đổi toàn bộ văn bản thành chữ thường\n",
        "\n",
        "## Phân chia train train, test\n",
        "\n",
        "+ 80% data dành để train, 20% data test\n",
        "\n",
        "## Ứng dụng\n",
        "Bài toán nhận dàng tin tức giả:\n",
        "+ Nhận dạng được tin tức một cách nhanh chóng giúp cho việc chọn lọc và chọn tin tức của user được chính xác\n",
        "+ Loại bỏ được những tin không chính xác và giả mạo được đề cập đến người dùng\n",
        "\n",
        "\t\n",
        "\n"
      ]
    }
  ]
}