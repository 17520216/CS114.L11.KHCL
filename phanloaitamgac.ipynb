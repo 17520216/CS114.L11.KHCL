{
  "nbformat": 4,
  "nbformat_minor": 0,
  "metadata": {
    "colab": {
      "name": "Untitled5.ipynb",
      "provenance": [],
      "authorship_tag": "ABX9TyPeDbKyQpEQtCHefHaVAju5",
      "include_colab_link": true
    },
    "kernelspec": {
      "name": "python3",
      "display_name": "Python 3"
    }
  },
  "cells": [
    {
      "cell_type": "markdown",
      "metadata": {
        "id": "view-in-github",
        "colab_type": "text"
      },
      "source": [
        "<a href=\"https://colab.research.google.com/github/17520216/CS114.L11.KHCL/blob/master/phanloaitamgac.ipynb\" target=\"_parent\"><img src=\"https://colab.research.google.com/assets/colab-badge.svg\" alt=\"Open In Colab\"/></a>"
      ]
    },
    {
      "cell_type": "markdown",
      "metadata": {
        "id": "J7A7sRReMDIV"
      },
      "source": [
        "##Phân loại tam giác\n",
        "<strong>Nhận dạng tam giác</strong>\n",
        "\n",
        "\n",
        "Viết chương trình nhập vào 3 số thực. Hãy cho biết đó có phải là độ dài 3 cạnh 1 tam giác hay không? Nếu phải thì đó là loại nào trong 4 loại sau: tam giác thường, cân, đều, vuông.\n",
        "\n",
        "Nếu là tam giác tính diện tích tam giác.\n",
        "\n",
        "INPUT:\n",
        "\n",
        "Dòng đầu tiên là độ dài cạnh 1.\n",
        "\n",
        "Dòng thứ hai là độ dài cạnh 2.\n",
        "\n",
        "Dòng thứ ba là độ dài cạnh 3.\n",
        "\n",
        "OUTPUT\n",
        "\n",
        "Định dạng như ví dụ minh họa. Diện tích làm tròn 02 chữ số sau dấu thập phân.\n"
      ]
    },
    {
      "cell_type": "code",
      "metadata": {
        "id": "cI3BqTEAMbWE",
        "outputId": "5d922f00-5adf-4905-f634-fc3ae9c95c0e",
        "colab": {
          "base_uri": "https://localhost:8080/"
        }
      },
      "source": [
        "import math\n",
        "a=float(input())\n",
        "b=float(input())\n",
        "c=float(input())\n",
        "p=float((a+b+c)/2)\n",
        "s=float(math.sqrt((p*(p-a)*(p-b)*(p-c))))\n",
        "if (round(s,2)== int(s)):\n",
        "\ts=int(s)\n",
        "else:\n",
        "\ts=round(s,2)\t\n",
        "\n",
        "if (a<b+c) and (b<a+c) and (c<a+b):\t\n",
        "\tif (a*a==b*b+c*c) or  (b*b==a*a+c*c) or  (c*c==b*b+a*a):\n",
        "\t\tprint(\"Tam giac vuong, dien tich = \", s)\n",
        "\telif (a==b==c):\n",
        "\t\tprint(\"Tam giac deu, dien tich = \", s)\n",
        "\telif (a==b) or (a==c) or (c==b):\n",
        "\t\tprint(\"Tam giac can, dien tich = \", s)\n",
        "\telse: print(\"Tam giac thuong, dien tich = \", s)\n",
        "else:\n",
        "\tprint(\"Khong phai tam giac\")\n"
      ],
      "execution_count": 3,
      "outputs": [
        {
          "output_type": "stream",
          "text": [
            "2\n",
            "3\n",
            "5\n",
            "Khong phai tam giac\n"
          ],
          "name": "stdout"
        }
      ]
    }
  ]
}