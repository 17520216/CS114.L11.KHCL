{
  "nbformat": 4,
  "nbformat_minor": 0,
  "metadata": {
    "colab": {
      "name": "Untitled10.ipynb",
      "provenance": [],
      "authorship_tag": "ABX9TyMzu1bG+xw56BrY2MoB6Liv",
      "include_colab_link": true
    },
    "kernelspec": {
      "name": "python3",
      "display_name": "Python 3"
    }
  },
  "cells": [
    {
      "cell_type": "markdown",
      "metadata": {
        "id": "view-in-github",
        "colab_type": "text"
      },
      "source": [
        "<a href=\"https://colab.research.google.com/github/17520216/CS114.L11.KHCL/blob/master/fastpower.ipynb\" target=\"_parent\"><img src=\"https://colab.research.google.com/assets/colab-badge.svg\" alt=\"Open In Colab\"/></a>"
      ]
    },
    {
      "cell_type": "markdown",
      "metadata": {
        "id": "vQRFn1X0RB-X"
      },
      "source": [
        "##fast.power\n",
        "\n",
        "Viết chương trình tính lũy thừa của hai số nguyên dương\n",
        "\n",
        "##INPUT\n",
        "Hai số nguyên m và n\n",
        "\n",
        "##OUTPUT\n",
        "Số dư còn lại khi lấy lũy thừa mn chia cho giá trị 1.000.000.007"
      ]
    },
    {
      "cell_type": "code",
      "metadata": {
        "id": "gpASlI27UHmc",
        "outputId": "f0b99203-33d0-456e-84ab-c13ce84b5657",
        "colab": {
          "base_uri": "https://localhost:8080/"
        }
      },
      "source": [
        "a=input()\n",
        "b=a.rfind(' ')\n",
        "k=int(a[0:b])\n",
        "t=int(a[b+1:])\n",
        "def luythua(a,b, t= 1000000000+7):\n",
        "\tif b==1:\n",
        "\t  return a % t\n",
        "\telse:\n",
        "\t    x=luythua(a,b//2)\n",
        "\t    x=x**2\n",
        "\t    if b % 2==1:\n",
        "\t      x=x*a\n",
        "\treturn x%t\n",
        "print(luythua(k,t))"
      ],
      "execution_count": 6,
      "outputs": [
        {
          "output_type": "stream",
          "text": [
            "5 4\n",
            "625\n"
          ],
          "name": "stdout"
        }
      ]
    }
  ]
}