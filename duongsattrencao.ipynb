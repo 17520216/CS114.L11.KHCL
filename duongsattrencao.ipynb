{
  "nbformat": 4,
  "nbformat_minor": 0,
  "metadata": {
    "colab": {
      "name": "Untitled7.ipynb",
      "provenance": [],
      "authorship_tag": "ABX9TyPbPfD8LaVNOF8qrPBPz1Oh",
      "include_colab_link": true
    },
    "kernelspec": {
      "name": "python3",
      "display_name": "Python 3"
    }
  },
  "cells": [
    {
      "cell_type": "markdown",
      "metadata": {
        "id": "view-in-github",
        "colab_type": "text"
      },
      "source": [
        "<a href=\"https://colab.research.google.com/github/17520216/CS114.L11.KHCL/blob/master/duongsattrencao.ipynb\" target=\"_parent\"><img src=\"https://colab.research.google.com/assets/colab-badge.svg\" alt=\"Open In Colab\"/></a>"
      ]
    },
    {
      "cell_type": "markdown",
      "metadata": {
        "id": "TKa_1bFrN3wk"
      },
      "source": [
        "##ĐƯỜNG SẮT TRÊN CAO\n",
        "Thành phố đang xây dựng tuyến đường sắt trên cao phục vụ giao thông nội đô. Tuyến đường sẽ có k+1 ga đánh số từ 0 đến k. Tàu chạy suốt ngày đêm, từ ga 0 đến ga k và quay lại. Thời gian đi từ một ga tới ga kế tiếp là 1 phút, thời gian dừng ở mỗi ga là không đáng kể. Hệ thống giao thông này không những nhanh, chuẩn xác về thời gian mà còn là một phương tiện tuyệt vời để ngắm thành phố.\n",
        "\n",
        "BHL của UIT quyết định sẽ tặng cho tất cả tham gia lớp Python online mỗi bạn một vé đi tàu miễn phí trong năm học.\n",
        "\n",
        "Minh rất háo hức với thông báo này và quyết tâm phải giành được một vé. Phần lớn thời gian rảnh rỗi trong ngày Minh đều dùng để rèn luyện lập trình Python, còn ban đêm là thời gian của những giấc mơ đẹp. Minh thấy mình bước lên tàu ở ga số 0, ngồi cạnh cửa sổ say sưa ngắm nhìn quang cảnh thành phố từ trên cao. Thời gian trôi đi khá nhanh. Đồng hồ cho biết Minh đã ngồi trên tàu t phút và Minh quyết định xuống tàu . . .\n",
        "\n",
        "Chuông đồng hồ vang lên, Minh tỉnh giấc, vội vàng đi đánh răng, rửa mặt, chuẩn bị đi học. Trên đường tới trường Minh vẫn nghĩ về giấc mơ đêm qua và không thể nhớ được mình đã xuống ở ga số mấy.\n",
        "\n",
        "Hãy xác định ga mà Minh đã xuống trong giấc mơ sắp thành hiện thực của mình.\n",
        "\n",
        "<strong>Dữ liệu</strong>: Vào từ thiết bị nhập chuẩn gồm một dòng chứa 2 số nguyên k và t (0 < k, t ≤ 109)\n",
        "\n",
        "<strong>Kết quả</strong>: Đưa ra thiết bị xuất chuẩn một số nguyên – ga xác định được."
      ]
    },
    {
      "cell_type": "code",
      "metadata": {
        "id": "kCFfT2-uOJFq",
        "outputId": "38f06000-df2c-4ff3-b1b9-5f1f10ac00ed",
        "colab": {
          "base_uri": "https://localhost:8080/"
        }
      },
      "source": [
        "a=input()\n",
        "b=a.rfind(' ')\n",
        "k=int(a[0:b])\n",
        "t=int(a[b+1:])\n",
        "f=int(t/k)\n",
        "if f%2 ==0:\n",
        "\tprint(int(t%k))\n",
        "else: print(k-(t%k))"
      ],
      "execution_count": 1,
      "outputs": [
        {
          "output_type": "stream",
          "text": [
            "5 8\n",
            "2\n"
          ],
          "name": "stdout"
        }
      ]
    }
  ]
}